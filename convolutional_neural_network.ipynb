{
 "cells": [
  {
   "cell_type": "markdown",
   "metadata": {
    "colab_type": "text",
    "id": "3DR-eO17geWu"
   },
   "source": [
    "# Convolutional Neural Network"
   ]
  },
  {
   "cell_type": "markdown",
   "metadata": {
    "colab_type": "text",
    "id": "EMefrVPCg-60"
   },
   "source": [
    "### Importing the libraries"
   ]
  },
  {
   "cell_type": "code",
   "execution_count": 1,
   "metadata": {
    "colab": {},
    "colab_type": "code",
    "id": "sCV30xyVhFbE"
   },
   "outputs": [
    {
     "name": "stderr",
     "output_type": "stream",
     "text": [
      "Using TensorFlow backend.\n"
     ]
    }
   ],
   "source": [
    "import tensorflow as tf\n",
    "from keras.preprocessing.image import ImageDataGenerator"
   ]
  },
  {
   "cell_type": "code",
   "execution_count": 2,
   "metadata": {
    "colab": {},
    "colab_type": "code",
    "id": "FIleuCAjoFD8"
   },
   "outputs": [
    {
     "data": {
      "text/plain": [
       "'2.1.0'"
      ]
     },
     "execution_count": 2,
     "metadata": {},
     "output_type": "execute_result"
    }
   ],
   "source": [
    "tf.__version__"
   ]
  },
  {
   "cell_type": "markdown",
   "metadata": {
    "colab_type": "text",
    "id": "oxQxCBWyoGPE"
   },
   "source": [
    "## Part 1 - Data Preprocessing"
   ]
  },
  {
   "cell_type": "markdown",
   "metadata": {
    "colab_type": "text",
    "id": "MvE-heJNo3GG"
   },
   "source": [
    "### Preprocessing the Training set"
   ]
  },
  {
   "cell_type": "code",
   "execution_count": 3,
   "metadata": {
    "colab": {},
    "colab_type": "code",
    "id": "0koUcJMJpEBD"
   },
   "outputs": [
    {
     "name": "stdout",
     "output_type": "stream",
     "text": [
      "Found 1376 images belonging to 2 classes.\n"
     ]
    }
   ],
   "source": [
    "train_datagen = ImageDataGenerator(rescale = 1./255,\n",
    "                                   shear_range = 0.2,\n",
    "                                   zoom_range = 0.2,\n",
    "                                   horizontal_flip = True)\n",
    "training_set = train_datagen.flow_from_directory('dataset/training_set',\n",
    "                                                 target_size = (64, 64),\n",
    "                                                 batch_size = 32,\n",
    "                                                 class_mode = 'binary')"
   ]
  },
  {
   "cell_type": "markdown",
   "metadata": {
    "colab_type": "text",
    "id": "mrCMmGw9pHys"
   },
   "source": [
    "### Preprocessing the Test set"
   ]
  },
  {
   "cell_type": "code",
   "execution_count": 4,
   "metadata": {
    "colab": {},
    "colab_type": "code",
    "id": "SH4WzfOhpKc3"
   },
   "outputs": [
    {
     "name": "stdout",
     "output_type": "stream",
     "text": [
      "Found 194 images belonging to 2 classes.\n"
     ]
    }
   ],
   "source": [
    "test_datagen = ImageDataGenerator(rescale = 1./255)\n",
    "test_set = test_datagen.flow_from_directory('dataset/test_set',\n",
    "                                            target_size = (64, 64),\n",
    "                                            batch_size = 32,\n",
    "                                            class_mode = 'binary')"
   ]
  },
  {
   "cell_type": "markdown",
   "metadata": {
    "colab_type": "text",
    "id": "af8O4l90gk7B"
   },
   "source": [
    "## Part 2 - Building the CNN"
   ]
  },
  {
   "cell_type": "markdown",
   "metadata": {
    "colab_type": "text",
    "id": "ces1gXY2lmoX"
   },
   "source": [
    "### Initialising the CNN"
   ]
  },
  {
   "cell_type": "code",
   "execution_count": 5,
   "metadata": {
    "colab": {},
    "colab_type": "code",
    "id": "SAUt4UMPlhLS"
   },
   "outputs": [],
   "source": [
    "cnn = tf.keras.models.Sequential()"
   ]
  },
  {
   "cell_type": "markdown",
   "metadata": {
    "colab_type": "text",
    "id": "u5YJj_XMl5LF"
   },
   "source": [
    "### Step 1 - Convolution"
   ]
  },
  {
   "cell_type": "code",
   "execution_count": 6,
   "metadata": {
    "colab": {},
    "colab_type": "code",
    "id": "XPzPrMckl-hV"
   },
   "outputs": [],
   "source": [
    "cnn.add(tf.keras.layers.Conv2D(filters=32, kernel_size=3, activation='relu', input_shape=[64, 64, 3]))"
   ]
  },
  {
   "cell_type": "markdown",
   "metadata": {
    "colab_type": "text",
    "id": "tf87FpvxmNOJ"
   },
   "source": [
    "### Step 2 - Pooling"
   ]
  },
  {
   "cell_type": "code",
   "execution_count": 7,
   "metadata": {
    "colab": {},
    "colab_type": "code",
    "id": "ncpqPl69mOac"
   },
   "outputs": [],
   "source": [
    "cnn.add(tf.keras.layers.MaxPool2D(pool_size=2, strides=2))"
   ]
  },
  {
   "cell_type": "markdown",
   "metadata": {
    "colab_type": "text",
    "id": "xaTOgD8rm4mU"
   },
   "source": [
    "### Adding a second convolutional layer"
   ]
  },
  {
   "cell_type": "code",
   "execution_count": 8,
   "metadata": {
    "colab": {},
    "colab_type": "code",
    "id": "i_-FZjn_m8gk"
   },
   "outputs": [],
   "source": [
    "cnn.add(tf.keras.layers.Conv2D(filters=32, kernel_size=3, activation='relu'))\n",
    "cnn.add(tf.keras.layers.MaxPool2D(pool_size=2, strides=2))"
   ]
  },
  {
   "cell_type": "markdown",
   "metadata": {
    "colab_type": "text",
    "id": "tmiEuvTunKfk"
   },
   "source": [
    "### Step 3 - Flattening"
   ]
  },
  {
   "cell_type": "code",
   "execution_count": 9,
   "metadata": {
    "colab": {},
    "colab_type": "code",
    "id": "6AZeOGCvnNZn"
   },
   "outputs": [],
   "source": [
    "cnn.add(tf.keras.layers.Flatten())"
   ]
  },
  {
   "cell_type": "markdown",
   "metadata": {
    "colab_type": "text",
    "id": "dAoSECOm203v"
   },
   "source": [
    "### Step 4 - Full Connection"
   ]
  },
  {
   "cell_type": "code",
   "execution_count": 10,
   "metadata": {
    "colab": {},
    "colab_type": "code",
    "id": "8GtmUlLd26Nq"
   },
   "outputs": [],
   "source": [
    "cnn.add(tf.keras.layers.Dense(units=128, activation='relu'))"
   ]
  },
  {
   "cell_type": "markdown",
   "metadata": {
    "colab_type": "text",
    "id": "yTldFvbX28Na"
   },
   "source": [
    "### Step 5 - Output Layer"
   ]
  },
  {
   "cell_type": "code",
   "execution_count": 11,
   "metadata": {
    "colab": {},
    "colab_type": "code",
    "id": "1p_Zj1Mc3Ko_"
   },
   "outputs": [],
   "source": [
    "cnn.add(tf.keras.layers.Dense(units=1, activation='sigmoid'))"
   ]
  },
  {
   "cell_type": "markdown",
   "metadata": {
    "colab_type": "text",
    "id": "D6XkI90snSDl"
   },
   "source": [
    "## Part 3 - Training the CNN"
   ]
  },
  {
   "cell_type": "markdown",
   "metadata": {
    "colab_type": "text",
    "id": "vfrFQACEnc6i"
   },
   "source": [
    "### Compiling the CNN"
   ]
  },
  {
   "cell_type": "code",
   "execution_count": 12,
   "metadata": {
    "colab": {},
    "colab_type": "code",
    "id": "NALksrNQpUlJ"
   },
   "outputs": [],
   "source": [
    "cnn.compile(optimizer = 'adam', loss = 'binary_crossentropy', metrics = ['accuracy'])"
   ]
  },
  {
   "cell_type": "markdown",
   "metadata": {
    "colab_type": "text",
    "id": "ehS-v3MIpX2h"
   },
   "source": [
    "### Training the CNN on the Training set and evaluating it on the Test set"
   ]
  },
  {
   "cell_type": "code",
   "execution_count": 13,
   "metadata": {
    "colab": {},
    "colab_type": "code",
    "id": "XUj1W4PJptta",
    "scrolled": false
   },
   "outputs": [
    {
     "name": "stdout",
     "output_type": "stream",
     "text": [
      "WARNING:tensorflow:sample_weight modes were coerced from\n",
      "  ...\n",
      "    to  \n",
      "  ['...']\n",
      "WARNING:tensorflow:sample_weight modes were coerced from\n",
      "  ...\n",
      "    to  \n",
      "  ['...']\n",
      "Train for 43 steps, validate for 7 steps\n",
      "Epoch 1/25\n",
      "43/43 [==============================] - 36s 837ms/step - loss: 0.4891 - accuracy: 0.7464 - val_loss: 0.9145 - val_accuracy: 0.5515\n",
      "Epoch 2/25\n",
      "43/43 [==============================] - 9s 221ms/step - loss: 0.1580 - accuracy: 0.9368 - val_loss: 0.7821 - val_accuracy: 0.6546\n",
      "Epoch 3/25\n",
      "43/43 [==============================] - 9s 217ms/step - loss: 0.0828 - accuracy: 0.9688 - val_loss: 1.4502 - val_accuracy: 0.5825\n",
      "Epoch 4/25\n",
      "43/43 [==============================] - 10s 225ms/step - loss: 0.0752 - accuracy: 0.9753 - val_loss: 1.6437 - val_accuracy: 0.5155\n",
      "Epoch 5/25\n",
      "43/43 [==============================] - 10s 223ms/step - loss: 0.0679 - accuracy: 0.9782 - val_loss: 1.7252 - val_accuracy: 0.5000\n",
      "Epoch 6/25\n",
      "43/43 [==============================] - 9s 219ms/step - loss: 0.0603 - accuracy: 0.9840 - val_loss: 1.6304 - val_accuracy: 0.4897\n",
      "Epoch 7/25\n",
      "43/43 [==============================] - 9s 217ms/step - loss: 0.0530 - accuracy: 0.9811 - val_loss: 1.6904 - val_accuracy: 0.5361\n",
      "Epoch 8/25\n",
      "43/43 [==============================] - 9s 216ms/step - loss: 0.0646 - accuracy: 0.9760 - val_loss: 1.4480 - val_accuracy: 0.6237\n",
      "Epoch 9/25\n",
      "43/43 [==============================] - 9s 218ms/step - loss: 0.0436 - accuracy: 0.9826 - val_loss: 1.6687 - val_accuracy: 0.5825\n",
      "Epoch 10/25\n",
      "43/43 [==============================] - 9s 216ms/step - loss: 0.0357 - accuracy: 0.9876 - val_loss: 1.5272 - val_accuracy: 0.5619\n",
      "Epoch 11/25\n",
      "43/43 [==============================] - 9s 215ms/step - loss: 0.0423 - accuracy: 0.9847 - val_loss: 1.9108 - val_accuracy: 0.4897\n",
      "Epoch 12/25\n",
      "43/43 [==============================] - 9s 215ms/step - loss: 0.0355 - accuracy: 0.9884 - val_loss: 1.6413 - val_accuracy: 0.4794\n",
      "Epoch 13/25\n",
      "43/43 [==============================] - 9s 218ms/step - loss: 0.0228 - accuracy: 0.9920 - val_loss: 2.0646 - val_accuracy: 0.5000\n",
      "Epoch 14/25\n",
      "43/43 [==============================] - 9s 218ms/step - loss: 0.0211 - accuracy: 0.9935 - val_loss: 1.5309 - val_accuracy: 0.6031\n",
      "Epoch 15/25\n",
      "43/43 [==============================] - 9s 215ms/step - loss: 0.0187 - accuracy: 0.9964 - val_loss: 2.4782 - val_accuracy: 0.4433\n",
      "Epoch 16/25\n",
      "43/43 [==============================] - 9s 218ms/step - loss: 0.0229 - accuracy: 0.9913 - val_loss: 1.2766 - val_accuracy: 0.6804\n",
      "Epoch 17/25\n",
      "43/43 [==============================] - 14s 323ms/step - loss: 0.0365 - accuracy: 0.9884 - val_loss: 1.0630 - val_accuracy: 0.6804\n",
      "Epoch 18/25\n",
      "43/43 [==============================] - 22s 521ms/step - loss: 0.0464 - accuracy: 0.9847 - val_loss: 1.7503 - val_accuracy: 0.5825\n",
      "Epoch 19/25\n",
      "43/43 [==============================] - 23s 525ms/step - loss: 0.0168 - accuracy: 0.9935 - val_loss: 2.0779 - val_accuracy: 0.5206\n",
      "Epoch 20/25\n",
      "43/43 [==============================] - 23s 540ms/step - loss: 0.0150 - accuracy: 0.9949 - val_loss: 1.4881 - val_accuracy: 0.6134\n",
      "Epoch 21/25\n",
      "43/43 [==============================] - 22s 521ms/step - loss: 0.0156 - accuracy: 0.9956 - val_loss: 2.4158 - val_accuracy: 0.5979\n",
      "Epoch 22/25\n",
      "43/43 [==============================] - 22s 510ms/step - loss: 0.0393 - accuracy: 0.9840 - val_loss: 1.8725 - val_accuracy: 0.5515\n",
      "Epoch 23/25\n",
      "43/43 [==============================] - 22s 522ms/step - loss: 0.0129 - accuracy: 0.9956 - val_loss: 2.1099 - val_accuracy: 0.5567\n",
      "Epoch 24/25\n",
      "43/43 [==============================] - 23s 524ms/step - loss: 0.0059 - accuracy: 0.9985 - val_loss: 2.8137 - val_accuracy: 0.5309\n",
      "Epoch 25/25\n",
      "43/43 [==============================] - 22s 515ms/step - loss: 0.0084 - accuracy: 0.9964 - val_loss: 1.9791 - val_accuracy: 0.6134\n"
     ]
    },
    {
     "data": {
      "text/plain": [
       "<tensorflow.python.keras.callbacks.History at 0x1a82522ea88>"
      ]
     },
     "execution_count": 13,
     "metadata": {},
     "output_type": "execute_result"
    }
   ],
   "source": [
    "cnn.fit(x = training_set, validation_data = test_set, epochs = 25)"
   ]
  },
  {
   "cell_type": "markdown",
   "metadata": {
    "colab_type": "text",
    "id": "U3PZasO0006Z"
   },
   "source": [
    "## Part 4 - Making a single prediction"
   ]
  },
  {
   "cell_type": "code",
   "execution_count": 23,
   "metadata": {
    "colab": {},
    "colab_type": "code",
    "id": "gsSiWEJY1BPB"
   },
   "outputs": [],
   "source": [
    "import numpy as np\n",
    "from keras.preprocessing import image\n",
    "test_image = image.load_img('dataset/single_prediction/no2.png', target_size = (64, 64))\n",
    "test_image = image.img_to_array(test_image)\n",
    "test_image = np.expand_dims(test_image, axis = 0)\n",
    "result = np.around(cnn.predict(test_image/255)) \n",
    "training_set.class_indices\n",
    "if result[0][0] == 1:\n",
    "  prediction = 'no mask'\n",
    "else:\n",
    "  prediction = 'mask'"
   ]
  },
  {
   "cell_type": "code",
   "execution_count": 24,
   "metadata": {
    "colab": {},
    "colab_type": "code",
    "id": "ED9KB3I54c1i"
   },
   "outputs": [
    {
     "name": "stdout",
     "output_type": "stream",
     "text": [
      "no mask\n"
     ]
    }
   ],
   "source": [
    "print(prediction)"
   ]
  },
  {
   "cell_type": "code",
   "execution_count": null,
   "metadata": {},
   "outputs": [],
   "source": [
    "result = cnn.predict(test_image)"
   ]
  }
 ],
 "metadata": {
  "colab": {
   "collapsed_sections": [],
   "name": "convolutional_neural_network.ipynb",
   "provenance": [],
   "toc_visible": true
  },
  "kernelspec": {
   "display_name": "Python 3",
   "language": "python",
   "name": "python3"
  },
  "language_info": {
   "codemirror_mode": {
    "name": "ipython",
    "version": 3
   },
   "file_extension": ".py",
   "mimetype": "text/x-python",
   "name": "python",
   "nbconvert_exporter": "python",
   "pygments_lexer": "ipython3",
   "version": "3.7.7"
  }
 },
 "nbformat": 4,
 "nbformat_minor": 1
}
